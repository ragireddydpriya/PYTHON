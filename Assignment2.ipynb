{
 "cells": [
  {
   "cell_type": "markdown",
   "metadata": {},
   "source": [
    "# Task1"
   ]
  },
  {
   "cell_type": "markdown",
   "metadata": {},
   "source": [
    "1.1\n",
    "Write a Python Program to implement your own myreduce() function which works exactly like\n",
    "Python's built-in function reduce()\n"
   ]
  },
  {
   "cell_type": "code",
   "execution_count": 15,
   "metadata": {},
   "outputs": [
    {
     "data": {
      "text/plain": [
       "55"
      ]
     },
     "execution_count": 15,
     "metadata": {},
     "output_type": "execute_result"
    }
   ],
   "source": [
    "def add(a,b):\n",
    "    return a+b\n",
    "lst=[1,2,3,4,5,6,7,8,9,10]\n",
    "def myreverse(add,lst):\n",
    "    res=lst[0]\n",
    "    for item in lst[1:]:\n",
    "        res=add(res,item)\n",
    "    return res\n",
    "myreverse(add,lst)\n"
   ]
  },
  {
   "cell_type": "markdown",
   "metadata": {},
   "source": [
    "1.2\n",
    "Write a Python program to implement your own myfilter() function which works exactly like\n",
    "Python's built-in function filter()"
   ]
  },
  {
   "cell_type": "code",
   "execution_count": 17,
   "metadata": {},
   "outputs": [
    {
     "data": {
      "text/plain": [
       "[1, 2, 3, 6, 7]"
      ]
     },
     "execution_count": 17,
     "metadata": {},
     "output_type": "execute_result"
    }
   ],
   "source": [
    "def pos(a):\n",
    "    if a>0:\n",
    "        return True\n",
    "    else:\n",
    "        return False\n",
    "lst=[1,2,3,-4,-5,6,7,-8,-9,-10]\n",
    "def myfilter(pos,lst):\n",
    "    res=[]\n",
    "    for item in lst:\n",
    "        if pos(item):\n",
    "            res.append(item)\n",
    "    return res\n",
    "myfilter(pos,lst)"
   ]
  },
  {
   "cell_type": "markdown",
   "metadata": {},
   "source": [
    "2.\n",
    "Implement List comprehensions to produce the following lists.\n",
    "Write List comprehensions to produce the following Lists\n",
    "['A', 'C', 'A', 'D', 'G', 'I', ’L’, ‘ D’]\n",
    "['x', 'xx', 'xxx', 'xxxx', 'y', 'yy', 'yyy', 'yyyy', 'z', 'zz', 'zzz', 'zzzz']\n",
    "['x', 'y', 'z', 'xx', 'yy', 'zz', 'xx', 'yy', 'zz', 'xxxx', 'yyyy', 'zzzz']\n",
    "[[2], [3], [4], [3], [4], [5], [4], [5], [6]]\n",
    "[[2, 3, 4, 5], [3, 4, 5, 6], [4, 5, 6, 7], [5, 6, 7, 8]]\n",
    "[(1, 1), (2, 1), (3, 1), (1, 2), (2, 2), (3, 2), (1, 3), (2, 3), (3, 3)]"
   ]
  },
  {
   "cell_type": "code",
   "execution_count": 12,
   "metadata": {},
   "outputs": [
    {
     "name": "stdout",
     "output_type": "stream",
     "text": [
      "['A', 'C', 'A', 'D', 'G', 'I', 'L', 'D']\n",
      "['x', 'xx', 'xxx', 'xxxx', 'y', 'yy', 'yyy', 'yyyy', 'z', 'zz', 'zzz', 'zzzz']\n",
      "['x', 'y', 'z', 'xx', 'yy', 'zz', 'xxxx', 'yyyy', 'zzzz']\n",
      "[[2], [3], [4], [3], [4], [5], [4], [5], [6]]\n",
      "[[2, 3, 4, 5], [3, 4, 5, 6], [4, 5, 6, 7], [5, 6, 7, 8]]\n",
      "[(1, 1), (2, 1), (3, 1), (1, 2), (2, 2), (3, 2), (1, 3), (2, 3), (3, 3)]\n"
     ]
    }
   ],
   "source": [
    "s='ACADGILD'\n",
    "print([i for i in s])\n",
    "t1=['x','y','z']\n",
    "print([i*n for i in t1 for n in range(1,5)])\n",
    "print([i*n for n in [1,2,4] for i in t1])\n",
    "num=[2,3,4]\n",
    "print([[i+n] for n in range(0,3) for i in num])\n",
    "num1=[2,3,4,5]\n",
    "print([[i+n for i in num1]for n in range(0,4)])\n",
    "x=[1,2,3]\n",
    "print([(i,j) for j in x for i in x])"
   ]
  },
  {
   "cell_type": "markdown",
   "metadata": {},
   "source": [
    "3.\n",
    "Implement a function longestWord() that takes a list of words and returns the longest one.\n"
   ]
  },
  {
   "cell_type": "code",
   "execution_count": 43,
   "metadata": {},
   "outputs": [
    {
     "name": "stdout",
     "output_type": "stream",
     "text": [
      "Enter wordsthis is a trial and error method goaheadkeepontrying all the best\n",
      "19\n"
     ]
    }
   ],
   "source": [
    "text=input(\"Enter words\")\n",
    "def longestWord(text):\n",
    "    words=text.split()\n",
    "    longest=0\n",
    "    for word in words:\n",
    "        if len(word)>longest:\n",
    "            longest=len(word)\n",
    "    return longest\n",
    "print(longestWord(text))"
   ]
  },
  {
   "cell_type": "markdown",
   "metadata": {},
   "source": [
    "# Task2"
   ]
  },
  {
   "cell_type": "markdown",
   "metadata": {},
   "source": [
    "1.1\n",
    "Write a Python Program(with class concepts) to find the area of the triangle using the below\n",
    "formula.\n",
    "area = (s*(s-a)*(s-b)*(s-c)) ** 0.5\n",
    "Function to take the length of the sides of triangle from user should be defined in the parent\n",
    "class and function to calculate the area should be defined in subclass."
   ]
  },
  {
   "cell_type": "code",
   "execution_count": 6,
   "metadata": {},
   "outputs": [
    {
     "name": "stdout",
     "output_type": "stream",
     "text": [
      "2.90\n"
     ]
    }
   ],
   "source": [
    "class parent:\n",
    "    def __init__(self,side1,side2,side3):\n",
    "        self.side1=side1\n",
    "        self.side2=side2\n",
    "        self.side3=side3\n",
    "    def __str__(self):\n",
    "        return \"this is parent class\"\n",
    "class children(parent):\n",
    "    def __init__(self,*args): \n",
    "        super(children,self).__init__(*args)\n",
    "        self.perimeter=self.side1+self.side2+self.side3\n",
    "    def areaoftriangle(self):\n",
    "        s=self.perimeter*0.5\n",
    "        return float(s*(s-self.side1)*(s-self.side2)*(s-self.side3))**0.5\n",
    "    def __str__(self):\n",
    "        return \"This is child class\"\n",
    "triangle=children(2,3,4)\n",
    "#print(triangle.areaoftriangle())\n",
    "t=triangle.areaoftriangle()\n",
    "print(\"%0.2f\" %t)"
   ]
  },
  {
   "cell_type": "markdown",
   "metadata": {},
   "source": [
    "1.2\n",
    "Write a function filter_long_words() that takes a list of words and an integer n and returns the list\n",
    "of words that are longer than n."
   ]
  },
  {
   "cell_type": "code",
   "execution_count": 8,
   "metadata": {},
   "outputs": [
    {
     "name": "stdout",
     "output_type": "stream",
     "text": [
      "enter list of words:\n",
      "hi this is python program\n",
      "enter integer : 2\n",
      "['this', 'python', 'program']\n"
     ]
    }
   ],
   "source": [
    "text=input(\"enter list of words:\\n\")\n",
    "n=int(input(\"enter integer : \"))\n",
    "def filter_long_words(text,n):\n",
    "    words=text.split()\n",
    "    long_words=[]\n",
    "    for word in words:\n",
    "        if len(word)>n:\n",
    "            long_words.append(word)\n",
    "    return long_words\n",
    "print(filter_long_words(text,n))"
   ]
  },
  {
   "cell_type": "markdown",
   "metadata": {},
   "source": [
    "2.1\n",
    "Write a Python program using function concept that maps list of words into a list of integers\n",
    "representing the lengths of the corresponding words.\n",
    "Hint: If a list [ ab,cde,erty] is passed on to the python function output should come as [2,3,4]\n",
    "Here 2,3 and 4 are the lengths of the words in the list.\n"
   ]
  },
  {
   "cell_type": "code",
   "execution_count": 9,
   "metadata": {},
   "outputs": [
    {
     "name": "stdout",
     "output_type": "stream",
     "text": [
      "enter list of words:this is a python program hello world\n",
      "[4, 2, 1, 6, 7, 5, 5]\n"
     ]
    }
   ],
   "source": [
    "text=input(\"enter list of words:\")\n",
    "def lenofwords(text):\n",
    "    integerlist=[]\n",
    "    words=text.split()\n",
    "    for word in words:\n",
    "        integerlist.append(len(word))\n",
    "    return integerlist\n",
    "print(lenofwords(text))"
   ]
  },
  {
   "cell_type": "markdown",
   "metadata": {},
   "source": [
    "2.2\n",
    "Write a Python function which takes a character (i.e. a string of length 1) and returns True if it is\n",
    "a vowel, False otherwise.\n",
    "NOTE: The solution shared through Github should contain the source code used  and\n",
    "the screenshot of the output.\n"
   ]
  },
  {
   "cell_type": "code",
   "execution_count": 14,
   "metadata": {},
   "outputs": [
    {
     "name": "stdout",
     "output_type": "stream",
     "text": [
      "enter a character:\n",
      "e\n"
     ]
    },
    {
     "data": {
      "text/plain": [
       "True"
      ]
     },
     "execution_count": 14,
     "metadata": {},
     "output_type": "execute_result"
    }
   ],
   "source": [
    "ch=input(\"enter a character:\\n\")\n",
    "def vowelcheck(ch):\n",
    "    vowels=['a','e','i','o','u']\n",
    "    if len(ch)==1:\n",
    "        if ch in vowels:\n",
    "            return True\n",
    "        else:\n",
    "            return False\n",
    "    else:\n",
    "        print('please enter character')\n",
    "vowelcheck(ch)"
   ]
  }
 ],
 "metadata": {
  "kernelspec": {
   "display_name": "Python 3",
   "language": "python",
   "name": "python3"
  },
  "language_info": {
   "codemirror_mode": {
    "name": "ipython",
    "version": 3
   },
   "file_extension": ".py",
   "mimetype": "text/x-python",
   "name": "python",
   "nbconvert_exporter": "python",
   "pygments_lexer": "ipython3",
   "version": "3.7.4"
  }
 },
 "nbformat": 4,
 "nbformat_minor": 2
}
