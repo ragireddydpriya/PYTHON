{
 "cells": [
  {
   "cell_type": "markdown",
   "metadata": {},
   "source": [
    "# INHERITANCE "
   ]
  },
  {
   "cell_type": "markdown",
   "metadata": {},
   "source": [
    "A child class C is inherited from classes A and B ,both A and B are having same method \"test\". Implement the test method from both classes A and B through child class C?"
   ]
  },
  {
   "cell_type": "code",
   "execution_count": 57,
   "metadata": {},
   "outputs": [
    {
     "name": "stdout",
     "output_type": "stream",
     "text": [
      "A\n",
      "B\n"
     ]
    }
   ],
   "source": [
    "class Base(object):\n",
    "    def test(self):\n",
    "        pass\n",
    "class A(Base):\n",
    "    def test(self):\n",
    "        super(A, self).test()\n",
    "        print(\"A\")\n",
    "\n",
    "class B(Base):     \n",
    "    def test(self):\n",
    "        super(B, self).test()\n",
    "        print(\"B\")\n",
    "\n",
    "class  C(B, A):\n",
    "    def test(self):\n",
    "        super(C, self).test()\n",
    "        #print(\"C\")\n",
    "C().test()"
   ]
  },
  {
   "cell_type": "code",
   "execution_count": null,
   "metadata": {},
   "outputs": [],
   "source": []
  }
 ],
 "metadata": {
  "kernelspec": {
   "display_name": "Python 3",
   "language": "python",
   "name": "python3"
  },
  "language_info": {
   "codemirror_mode": {
    "name": "ipython",
    "version": 3
   },
   "file_extension": ".py",
   "mimetype": "text/x-python",
   "name": "python",
   "nbconvert_exporter": "python",
   "pygments_lexer": "ipython3",
   "version": "3.7.4"
  }
 },
 "nbformat": 4,
 "nbformat_minor": 2
}
